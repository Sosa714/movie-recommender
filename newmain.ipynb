{
 "cells": [
  {
   "cell_type": "markdown",
   "metadata": {},
   "source": [
    "# Movie Recommendation System"
   ]
  },
  {
   "cell_type": "markdown",
   "metadata": {},
   "source": [
    "## Library Imports and Constants Initialization"
   ]
  },
  {
   "cell_type": "code",
   "execution_count": 1,
   "metadata": {},
   "outputs": [],
   "source": [
    "import os\n",
    "import pandas as pd\n",
    "import numpy as np"
   ]
  },
  {
   "cell_type": "markdown",
   "metadata": {},
   "source": [
    "## Data Loading"
   ]
  },
  {
   "cell_type": "code",
   "execution_count": 2,
   "metadata": {},
   "outputs": [],
   "source": [
    "movies_df = pd.read_csv(os.path.join(os.getcwd(), 'data', \"movies.csv\"))\n",
    "ratings_df = pd.read_csv(os.path.join(os.getcwd(), 'data', \"ratings.csv\")).iloc[:500000, :] # Using 500,000 for now due to sheer size of original\n",
    "tags_df = pd.read_csv(os.path.join(os.getcwd(), 'data', \"tags.csv\"))"
   ]
  },
  {
   "cell_type": "markdown",
   "metadata": {},
   "source": [
    "## Dataset Exploration"
   ]
  },
  {
   "cell_type": "markdown",
   "metadata": {},
   "source": [
    "### Movies Info"
   ]
  },
  {
   "cell_type": "markdown",
   "metadata": {},
   "source": [
    "Nothing much to the movies dataset, everything is relevant, and there's no missing data."
   ]
  },
  {
   "cell_type": "code",
   "execution_count": 3,
   "metadata": {},
   "outputs": [
    {
     "name": "stdout",
     "output_type": "stream",
     "text": [
      "\n",
      "General information of the movies' dataset:\n",
      "<class 'pandas.core.frame.DataFrame'>\n",
      "RangeIndex: 62423 entries, 0 to 62422\n",
      "Data columns (total 3 columns):\n",
      " #   Column   Non-Null Count  Dtype \n",
      "---  ------   --------------  ----- \n",
      " 0   movieId  62423 non-null  int64 \n",
      " 1   title    62423 non-null  object\n",
      " 2   genres   62423 non-null  object\n",
      "dtypes: int64(1), object(2)\n",
      "memory usage: 1.4+ MB\n",
      "None\n",
      "------------------------------------------------------------------\n",
      "\n",
      "Head of the movies' dataset:\n",
      "   movieId                               title  \\\n",
      "0        1                    Toy Story (1995)   \n",
      "1        2                      Jumanji (1995)   \n",
      "2        3             Grumpier Old Men (1995)   \n",
      "3        4            Waiting to Exhale (1995)   \n",
      "4        5  Father of the Bride Part II (1995)   \n",
      "\n",
      "                                        genres  \n",
      "0  Adventure|Animation|Children|Comedy|Fantasy  \n",
      "1                   Adventure|Children|Fantasy  \n",
      "2                               Comedy|Romance  \n",
      "3                         Comedy|Drama|Romance  \n",
      "4                                       Comedy  \n",
      "------------------------------------------------------------------\n",
      "\n",
      "Shape of the movies' dataset: (62423, 3)\n",
      "------------------------------------------------------------------\n",
      "\n",
      "Missing values of the movies' dataset:\n",
      "movieId    0\n",
      "title      0\n",
      "genres     0\n",
      "dtype: int64\n"
     ]
    }
   ],
   "source": [
    "print(\"\\nGeneral information of the movies' dataset:\")\n",
    "print(movies_df.info())\n",
    "\n",
    "print(\"------------------------------------------------------------------\")\n",
    "\n",
    "print(\"\\nHead of the movies' dataset:\")\n",
    "print(movies_df.head())\n",
    "\n",
    "print(\"------------------------------------------------------------------\")\n",
    "\n",
    "print(\"\\nShape of the movies' dataset:\", movies_df.shape)\n",
    "\n",
    "print(\"------------------------------------------------------------------\")\n",
    "\n",
    "print(\"\\nMissing values of the movies' dataset:\")\n",
    "print(movies_df.isnull().sum())"
   ]
  },
  {
   "cell_type": "markdown",
   "metadata": {},
   "source": [
    "### Ratings Info"
   ]
  },
  {
   "cell_type": "markdown",
   "metadata": {},
   "source": [
    "For the ratings dataset, the timestamp column is something we don't plan on using."
   ]
  },
  {
   "cell_type": "code",
   "execution_count": 4,
   "metadata": {},
   "outputs": [
    {
     "name": "stdout",
     "output_type": "stream",
     "text": [
      "\n",
      "General information of the ratings' dataset:\n",
      "<class 'pandas.core.frame.DataFrame'>\n",
      "RangeIndex: 500000 entries, 0 to 499999\n",
      "Data columns (total 4 columns):\n",
      " #   Column     Non-Null Count   Dtype  \n",
      "---  ------     --------------   -----  \n",
      " 0   userId     500000 non-null  int64  \n",
      " 1   movieId    500000 non-null  int64  \n",
      " 2   rating     500000 non-null  float64\n",
      " 3   timestamp  500000 non-null  int64  \n",
      "dtypes: float64(1), int64(3)\n",
      "memory usage: 15.3 MB\n",
      "None\n",
      "------------------------------------------------------------------\n",
      "\n",
      "Head of the ratings' dataset:\n",
      "   userId  movieId  rating   timestamp\n",
      "0       1      296     5.0  1147880044\n",
      "1       1      306     3.5  1147868817\n",
      "2       1      307     5.0  1147868828\n",
      "3       1      665     5.0  1147878820\n",
      "4       1      899     3.5  1147868510\n",
      "------------------------------------------------------------------\n",
      "\n",
      "Shape of the ratings' dataset: (500000, 4)\n",
      "------------------------------------------------------------------\n",
      "\n",
      "Missing values of the ratings' dataset:\n",
      "userId       0\n",
      "movieId      0\n",
      "rating       0\n",
      "timestamp    0\n",
      "dtype: int64\n"
     ]
    }
   ],
   "source": [
    "print(\"\\nGeneral information of the ratings' dataset:\")\n",
    "print(ratings_df.info())\n",
    "# Timestamp unnecessary\n",
    "\n",
    "print(\"------------------------------------------------------------------\")\n",
    "\n",
    "print(\"\\nHead of the ratings' dataset:\")\n",
    "print(ratings_df.head())\n",
    "\n",
    "print(\"------------------------------------------------------------------\")\n",
    "\n",
    "print(\"\\nShape of the ratings' dataset:\", ratings_df.shape)\n",
    "\n",
    "print(\"------------------------------------------------------------------\")\n",
    "\n",
    "print(\"\\nMissing values of the ratings' dataset:\")\n",
    "print(ratings_df.isnull().sum())"
   ]
  },
  {
   "cell_type": "markdown",
   "metadata": {},
   "source": [
    "### Tags Info"
   ]
  },
  {
   "cell_type": "markdown",
   "metadata": {},
   "source": [
    "Once again, we'll likely drop the timestamp column. Also, suprisingly there are 16 missing values in the dataset specifically in the tag column. Considering how small that is compared to the size of the whole thing, we'll just drop them.\n",
    "\n",
    "One of the bigger things we have to do for this dataset is alter the values in the tag column. The thing is, each tag is a user input. It's not like the generes column in the movies dataset that . This means 2 things. First, its that a movie can be given the same tag by different users but they're not technically the \"same\" due to how a user decided to spell the tag. So like sci-fi vs scifi. Second, some tags may be heavily opinion based, i.e. \"So bad its good\", this may effect te final outcome of our model since it will rely on the \"genreness\" of tags rather than opinionated descriptions. After all, something like, \"So bad its good\", can be used for any type of movie."
   ]
  },
  {
   "cell_type": "code",
   "execution_count": 5,
   "metadata": {},
   "outputs": [
    {
     "name": "stdout",
     "output_type": "stream",
     "text": [
      "\n",
      "General information of the tags' dataset:\n",
      "<class 'pandas.core.frame.DataFrame'>\n",
      "RangeIndex: 1093360 entries, 0 to 1093359\n",
      "Data columns (total 4 columns):\n",
      " #   Column     Non-Null Count    Dtype \n",
      "---  ------     --------------    ----- \n",
      " 0   userId     1093360 non-null  int64 \n",
      " 1   movieId    1093360 non-null  int64 \n",
      " 2   tag        1093344 non-null  object\n",
      " 3   timestamp  1093360 non-null  int64 \n",
      "dtypes: int64(3), object(1)\n",
      "memory usage: 33.4+ MB\n",
      "None\n",
      "------------------------------------------------------------------\n",
      "\n",
      "Head of the tags' dataset:\n",
      "   userId  movieId               tag   timestamp\n",
      "0       3      260           classic  1439472355\n",
      "1       3      260            sci-fi  1439472256\n",
      "2       4     1732       dark comedy  1573943598\n",
      "3       4     1732    great dialogue  1573943604\n",
      "4       4     7569  so bad it's good  1573943455\n",
      "------------------------------------------------------------------\n",
      "\n",
      "Shape of the tags' dataset: (1093360, 4)\n",
      "------------------------------------------------------------------\n",
      "\n",
      "Missing values of the tags' dataset:\n",
      "userId        0\n",
      "movieId       0\n",
      "tag          16\n",
      "timestamp     0\n",
      "dtype: int64\n",
      "\n",
      "Unique values tags' in dataset:\n",
      "73050\n"
     ]
    }
   ],
   "source": [
    "print(\"\\nGeneral information of the tags' dataset:\")\n",
    "print(tags_df.info())\n",
    "# Timestamp unnecessary\n",
    "# Tags are user defined, so a lot of them (although the same) will be spelled differently. \n",
    "    # i.e. sci-fi vs scifi, 90's vs 90s, and Horror vs horror\n",
    "\n",
    "print(\"------------------------------------------------------------------\")\n",
    "\n",
    "print(\"\\nHead of the tags' dataset:\")\n",
    "print(tags_df.head())\n",
    "\n",
    "print(\"------------------------------------------------------------------\")\n",
    "\n",
    "print(\"\\nShape of the tags' dataset:\", tags_df.shape)\n",
    "print(\"------------------------------------------------------------------\")\n",
    "\n",
    "print(\"\\nMissing values of the tags' dataset:\")\n",
    "print(tags_df.isnull().sum())\n",
    "# 16 missing values\n",
    "\n",
    "print(\"------------------------------------------------------------------\")\n",
    "\n",
    "print(\"\\nUnique values tags' in dataset:\")\n",
    "print(tags_df.tag.nunique())"
   ]
  },
  {
   "cell_type": "markdown",
   "metadata": {},
   "source": [
    "## Initial Data Preprocessing for Ratings, and Tags"
   ]
  },
  {
   "cell_type": "markdown",
   "metadata": {},
   "source": [
    "### Ratings Preprocessing"
   ]
  },
  {
   "cell_type": "code",
   "execution_count": null,
   "metadata": {},
   "outputs": [],
   "source": [
    "ratings_cleaned = ratings_df.drop(columns=['timestamp'])"
   ]
  },
  {
   "cell_type": "markdown",
   "metadata": {},
   "source": [
    "### Tags Preprocessing"
   ]
  },
  {
   "cell_type": "code",
   "execution_count": null,
   "metadata": {},
   "outputs": [],
   "source": [
    "tags_cleaned = tags_df.drop(columns=['timestamp'])\n",
    "tags_cleaned = tags_cleaned.dropna()"
   ]
  }
 ],
 "metadata": {
  "kernelspec": {
   "display_name": "venv",
   "language": "python",
   "name": "python3"
  },
  "language_info": {
   "codemirror_mode": {
    "name": "ipython",
    "version": 3
   },
   "file_extension": ".py",
   "mimetype": "text/x-python",
   "name": "python",
   "nbconvert_exporter": "python",
   "pygments_lexer": "ipython3",
   "version": "3.12.0"
  }
 },
 "nbformat": 4,
 "nbformat_minor": 2
}
